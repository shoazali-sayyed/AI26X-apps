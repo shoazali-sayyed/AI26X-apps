{
 "cells": [
  {
   "cell_type": "markdown",
   "metadata": {},
   "source": [
    "# Save and Upload a Model to S3\n",
    "\n",
    "Save a trained model in ONNX format and upload the file to an S3 bucket.\n",
    "\n",
    "### 1. Import the required libraries"
   ]
  },
  {
   "cell_type": "code",
   "execution_count": null,
   "metadata": {},
   "outputs": [],
   "source": [
    "import os\n",
    "import boto3\n",
    "import numpy as np\n",
    "import matplotlib.pyplot as plt\n",
    "import joblib\n",
    "from sklearn.datasets import make_blobs\n",
    "from sklearn.svm import OneClassSVM\n",
    "\n",
    "from skl2onnx import to_onnx"
   ]
  },
  {
   "cell_type": "markdown",
   "metadata": {},
   "source": [
    "### 2. Train a sample model\n",
    "\n",
    "Generate a random data set of normally-distributed data points."
   ]
  },
  {
   "cell_type": "code",
   "execution_count": null,
   "metadata": {},
   "outputs": [],
   "source": [
    "X, _ = make_blobs(100, centers=1, n_features=2, random_state=0)"
   ]
  },
  {
   "cell_type": "markdown",
   "metadata": {},
   "source": [
    "Train a model for anomaly detection by using the generated data."
   ]
  },
  {
   "cell_type": "code",
   "execution_count": null,
   "metadata": {},
   "outputs": [],
   "source": [
    "model = OneClassSVM(nu=0.1)\n",
    "model.fit(X)"
   ]
  },
  {
   "cell_type": "markdown",
   "metadata": {},
   "source": [
    "Run the anomaly detection model."
   ]
  },
  {
   "cell_type": "code",
   "execution_count": 56,
   "metadata": {},
   "outputs": [],
   "source": [
    "y_pred = model.predict(X)"
   ]
  },
  {
   "cell_type": "markdown",
   "metadata": {},
   "source": [
    "Plot the results.\n",
    "The diagram displays anomalies in red."
   ]
  },
  {
   "cell_type": "code",
   "execution_count": null,
   "metadata": {},
   "outputs": [],
   "source": [
    "colors = np.array([\n",
    "    \"#ef3300\",  # Outlier -> Anomaly\n",
    "    \"#00aa52\",  # Inlier -> Ok\n",
    "])\n",
    "is_inlier = (y_pred + 1) // 2\n",
    "y_pred_colors = colors[is_inlier]\n",
    "plt.scatter(X[:, 0], X[:, 1], color=y_pred_colors)"
   ]
  },
  {
   "cell_type": "markdown",
   "metadata": {},
   "source": [
    "### 3. Export the trained model to ONNX"
   ]
  },
  {
   "cell_type": "markdown",
   "metadata": {},
   "source": [
    "Use a single sample row for the model to infer the input shape."
   ]
  },
  {
   "cell_type": "code",
   "execution_count": null,
   "metadata": {},
   "outputs": [],
   "source": [
    "sample_row = X[:1]\n",
    "sample_row"
   ]
  },
  {
   "cell_type": "markdown",
   "metadata": {},
   "source": [
    "Convert the Scikit-learn model to ONNX."
   ]
  },
  {
   "cell_type": "code",
   "execution_count": null,
   "metadata": {},
   "outputs": [],
   "source": [
    "onnx_model = to_onnx(model, sample_row)\n",
    "onnx_model"
   ]
  },
  {
   "cell_type": "markdown",
   "metadata": {},
   "source": [
    "Save the ONNX model to a file."
   ]
  },
  {
   "cell_type": "code",
   "execution_count": null,
   "metadata": {},
   "outputs": [],
   "source": [
    "onnx_file_name = \"anomaly_detection.onnx\"\n",
    "\n",
    "with open(onnx_file_name, \"wb\") as f:\n",
    "    f.write(onnx_model.SerializeToString())"
   ]
  },
  {
   "cell_type": "markdown",
   "metadata": {},
   "source": [
    "### 4. Upload the file to the S3 bucket.\n",
    "\n",
    "Use the `boto3` library with the parameters of the data connection.\n",
    "\n",
    "> **IMPORTANT**\n",
    ">\n",
    "> The `verify=False` parameter ignores the errors caused by the self-signed certificates of the lab environment.\n",
    "> In production, you should always remove this parameter to verify the SSL certificates of your S3 services."
   ]
  },
  {
   "cell_type": "code",
   "execution_count": null,
   "metadata": {},
   "outputs": [],
   "source": [
    "key_id = os.getenv(\"AWS_ACCESS_KEY_ID\")\n",
    "secret_key = os.getenv(\"AWS_SECRET_ACCESS_KEY\")\n",
    "endpoint = os.getenv(\"AWS_S3_ENDPOINT\")\n",
    "bucket_name = os.getenv(\"AWS_S3_BUCKET\")\n",
    "\n",
    "s3_client = boto3.client(\n",
    "    \"s3\",\n",
    "    aws_access_key_id=key_id,\n",
    "    aws_secret_access_key=secret_key,\n",
    "    endpoint_url=endpoint,\n",
    "    verify=False\n",
    ")\n",
    "\n",
    "s3_client.upload_file(onnx_file_name, bucket_name, Key=onnx_file_name)\n",
    "\n",
    "print(f\"File {onnx_file_name} uploaded to S3!\")"
   ]
  },
  {
   "cell_type": "markdown",
   "metadata": {},
   "source": [
    "Open https://minio-minio.apps.ocp4.example.com/.\n",
    "\n",
    "Authenticate with the `minio` access key and the `minio123` secret key.\n",
    "\n",
    "Verify that the `saved-models` bucket contains the ONNX model file."
   ]
  }
 ],
 "metadata": {
  "kernelspec": {
   "display_name": "Python 3.9",
   "language": "python",
   "name": "python3"
  },
  "language_info": {
   "codemirror_mode": {
    "name": "ipython",
    "version": 3
   },
   "file_extension": ".py",
   "mimetype": "text/x-python",
   "name": "python",
   "nbconvert_exporter": "python",
   "pygments_lexer": "ipython3",
   "version": "3.9.16"
  }
 },
 "nbformat": 4,
 "nbformat_minor": 4
}
